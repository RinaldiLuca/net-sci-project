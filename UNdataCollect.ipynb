{
 "cells": [
  {
   "cell_type": "code",
   "execution_count": 11,
   "metadata": {},
   "outputs": [],
   "source": [
    "import requests as re\n",
    "import json\n",
    "import pandas as pd\n",
    "import time\n",
    "import numpy as np"
   ]
  },
  {
   "cell_type": "code",
   "execution_count": 12,
   "metadata": {},
   "outputs": [],
   "source": [
    "url = \"http://comtrade.un.org\"\n",
    "countries = np.array([  4,   8,  12,  20,  24,  28,  31,  32,  36,  40,  44,  48,\n",
    "        50,  51,  52,  58,  60,  64,  68,  70,  76,  86,  84,  90,  92,\n",
    "        96, 100, 104, 108, 116, 112, 120, 124, 132, 136, 140, 144, 148,\n",
    "       152, 156, 162, 166, 170, 174, 178, 180, 184, 188, 191, 192, 196,\n",
    "       200, 204, 208, 212, 214, 218, 222, 226, 230, 233, 234, 238, 242,\n",
    "       246, 251, 254, 262, 258, 260, 266, 268, 270, 276, 288, 292, 296,\n",
    "       300, 304, 308, 312, 320, 324, 328, 332, 340, 344, 348, 352, 360,\n",
    "       364, 368, 372, 376, 380, 384, 388, 398, 392, 400, 404, 408, 410,\n",
    "       414, 417, 418, 422, 428, 430, 440, 446, 450, 454, 458, 466, 462,\n",
    "       470, 474, 478, 480, 484, 490, 496, 498, 500, 504, 508, 512, 520,\n",
    "       524, 527, 528, 530, 533, 540, 548, 554, 558, 562, 566, 570, 574,\n",
    "       579, 583, 584, 585, 586, 591, 598, 600, 604, 608, 616, 624, 620,\n",
    "       634, 638, 642, 643, 646, 654, 659, 660, 662, 666, 670, 678, 682,\n",
    "       686, 690, 694, 699, 702, 704, 705, 706, 711, 716, 724, 732, 736,\n",
    "       740, 752, 757, 760, 762, 764, 768, 772, 776, 780, 784, 788, 792,\n",
    "       795, 796, 798, 800, 804, 818, 826, 834, 854, 860, 858, 862, 876,\n",
    "       882, 887, 891, 899, 894, 203, 231, 434, 612, 703, 807, 232, 839,\n",
    "        72, 175, 275, 334, 336, 426, 442, 516, 626, 674, 748, 710,  56,\n",
    "       499, 688, 534, 531, 729, 728])\n",
    "numy = lambda x: f'0{x}' if x<10 else f'{x}'\n",
    "products = ['%2C'.join([numy(i) for i in range(j*12+1,j*12+13)]) for j in range(2)]\n",
    "years = ['%2C'.join([str(year) for year in range(j*3+2015,j*3+2018)]) for j in range(2)]"
   ]
  },
  {
   "cell_type": "code",
   "execution_count": 13,
   "metadata": {},
   "outputs": [],
   "source": [
    "total_requests = 0\n",
    "start = time.time()"
   ]
  },
  {
   "cell_type": "code",
   "execution_count": 39,
   "metadata": {},
   "outputs": [
    {
     "name": "stdout",
     "output_type": "stream",
     "text": [
      "2001%2C2002%2C2003%2C2004%2C2005\n",
      "entries: 1887\n",
      "entries: 2193\n",
      "2006%2C2007%2C2008%2C2009%2C2010\n",
      "entries: 1876\n",
      "entries: 2404\n",
      "2011%2C2012%2C2013%2C2014%2C2015\n",
      "entries: 2125\n",
      "entries: 2627\n",
      "2016%2C2017%2C2018%2C2019%2C2020\n",
      "entries: 2245\n",
      "entries: 0\n",
      "Data may not be complete for code 76\n",
      "Writing to memory country with code 76\n"
     ]
    }
   ],
   "source": [
    "all_records = []\n",
    "# TODO: sometimes the api answer is empty, but if we try with a smaller range of years, it is non-empty. FIX\n",
    "for country in countries:\n",
    "    if country <= 246: continue\n",
    "    country_rec = []\n",
    "    for year in ['%2C'.join(str(year) for year in range(2001+k*5,2006+k*5)) for k in range(4)]:#years:\n",
    "        for product in products:\n",
    "            # Get data\n",
    "            result = re.get(url+f\"/api/get?max=100000&type=C&freq=A&px=HS&ps={year}&r={country}&p=all&rg=1&cc={product}\")\n",
    "            data = result.json()['dataset']\n",
    "            time.sleep(1)\n",
    "\n",
    "            # Validate obtained data is less than the api limit\n",
    "            print(f'entries: {len(data)}')\n",
    "            if len(data) == 10000 or len(data) == 0:\n",
    "                print(f'Data may not be complete for code {country}')\n",
    "\n",
    "            # Add new entries\n",
    "            all_records.extend(data)\n",
    "            country_rec.extend(data)\n",
    "            \n",
    "            # Account for the request just performed\n",
    "            total_requests += 1\n",
    "            now = time.time()\n",
    "            \n",
    "            # Reset everything if more than an hour has elapsed\n",
    "            if now - start > 3600:\n",
    "                start = now\n",
    "                total_requests = 0\n",
    "\n",
    "            # If the number of requests\n",
    "            if total_requests > 99: #and (now-start < 3600): Alredy accounted for in the if statement above\n",
    "                time.sleep(3600-now + start + 10)\n",
    "                start = time.time()\n",
    "                total_requests = 0\n",
    "\n",
    "    # Save the country data\n",
    "    df = pd.DataFrame(country_rec)\n",
    "    print(f'Writing to memory country with code {country}')\n",
    "    df.to_csv(f'{country}_2001-2020.csv')"
   ]
  },
  {
   "cell_type": "code",
   "execution_count": null,
   "metadata": {},
   "outputs": [],
   "source": [
    "result"
   ]
  },
  {
   "cell_type": "code",
   "execution_count": null,
   "metadata": {},
   "outputs": [],
   "source": [
    "countries[186:]"
   ]
  },
  {
   "cell_type": "code",
   "execution_count": 20,
   "metadata": {},
   "outputs": [
    {
     "data": {
      "text/plain": [
       "106"
      ]
     },
     "execution_count": 20,
     "metadata": {},
     "output_type": "execute_result"
    }
   ],
   "source": [
    "total_requests"
   ]
  },
  {
   "cell_type": "code",
   "execution_count": 18,
   "metadata": {},
   "outputs": [
    {
     "data": {
      "text/plain": [
       "['2001%2C2002%2C2003%2C2004%2C2005',\n",
       " '2006%2C2007%2C2008%2C2009%2C2010',\n",
       " '2011%2C2012%2C2013%2C2014%2C2015',\n",
       " '2016%2C2017%2C2018%2C2019%2C2020']"
      ]
     },
     "execution_count": 18,
     "metadata": {},
     "output_type": "execute_result"
    }
   ],
   "source": [
    "['%2C'.join(str(year) for year in range(2001+k*5,2006+k*5)) for k in range(4)]"
   ]
  },
  {
   "cell_type": "code",
   "execution_count": 17,
   "metadata": {},
   "outputs": [
    {
     "data": {
      "text/plain": [
       "['01%2C02%2C03%2C04%2C05%2C06%2C07%2C08%2C09%2C10%2C11%2C12',\n",
       " '13%2C14%2C15%2C16%2C17%2C18%2C19%2C20%2C21%2C22%2C23%2C24']"
      ]
     },
     "execution_count": 17,
     "metadata": {},
     "output_type": "execute_result"
    }
   ],
   "source": [
    "['%2C'.join([numy(i) for i in range(j*12+1,j*12+13)]) for j in range(2)]"
   ]
  },
  {
   "cell_type": "code",
   "execution_count": 53,
   "metadata": {},
   "outputs": [
    {
     "data": {
      "text/plain": [
       "<Response [200]>"
      ]
     },
     "execution_count": 53,
     "metadata": {},
     "output_type": "execute_result"
    }
   ],
   "source": [
    "year = '2016%2C2017%2C2018%2C2019%2C2020'\n",
    "product = ['%2C'.join([numy(i) for i in range(j*12+1,j*12+13)]) for j in range(2)][1]\n",
    "country = 76 #brazil\n",
    "result = re.get(url+f\"/api/get?max=100000&type=C&freq=A&px=HS&ps={year}&r={country}&p=all&rg=1&cc={product}\")\n",
    "result"
   ]
  },
  {
   "cell_type": "code",
   "execution_count": 54,
   "metadata": {},
   "outputs": [],
   "source": [
    "data = result.json()['dataset']"
   ]
  },
  {
   "cell_type": "code",
   "execution_count": 55,
   "metadata": {},
   "outputs": [
    {
     "data": {
      "text/plain": [
       "set()"
      ]
     },
     "execution_count": 55,
     "metadata": {},
     "output_type": "execute_result"
    }
   ],
   "source": [
    "years = set([d['yr'] for d in data])\n",
    "years"
   ]
  },
  {
   "cell_type": "code",
   "execution_count": 56,
   "metadata": {},
   "outputs": [
    {
     "data": {
      "text/plain": [
       "0"
      ]
     },
     "execution_count": 56,
     "metadata": {},
     "output_type": "execute_result"
    }
   ],
   "source": [
    "len(data)"
   ]
  },
  {
   "cell_type": "code",
   "execution_count": null,
   "metadata": {},
   "outputs": [],
   "source": []
  }
 ],
 "metadata": {
  "kernelspec": {
   "display_name": "Python 3",
   "language": "python",
   "name": "python3"
  },
  "language_info": {
   "codemirror_mode": {
    "name": "ipython",
    "version": 3
   },
   "file_extension": ".py",
   "mimetype": "text/x-python",
   "name": "python",
   "nbconvert_exporter": "python",
   "pygments_lexer": "ipython3",
   "version": "3.8.10"
  }
 },
 "nbformat": 4,
 "nbformat_minor": 4
}
