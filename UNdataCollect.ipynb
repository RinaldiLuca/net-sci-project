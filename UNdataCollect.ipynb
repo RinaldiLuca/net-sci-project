{
 "cells": [
  {
   "cell_type": "code",
   "execution_count": 57,
   "metadata": {},
   "outputs": [],
   "source": [
    "import requests as re\n",
    "import json\n",
    "import pandas as pd\n",
    "import time\n",
    "import numpy as np\n",
    "import math as mt"
   ]
  },
  {
   "cell_type": "code",
   "execution_count": 12,
   "metadata": {},
   "outputs": [],
   "source": [
    "url = \"http://comtrade.un.org\"\n",
    "numy = lambda x: f'0{x}' if x<10 else f'{x}'\n",
    "products = ['%2C'.join([numy(i) for i in range(j*12+1,j*12+13)]) for j in range(2)]\n",
    "countries = np.array([  4,   8,  12,  20,  24,  28,  31,  32,  36,  40,  44,  48,  50,\n",
    "        51,  52,  56,  60,  68,  70,  72,  76,  84,  90,  96, 100, 104,\n",
    "       108, 112, 116, 120, 124, 132, 136, 140, 144, 152, 156, 170, 174,\n",
    "       178, 180, 188, 191, 196, 203, 204, 208, 214, 218, 222, 231, 233,\n",
    "       242, 246, 251, 258, 268, 270, 275, 276, 288, 296, 300, 304, 308,\n",
    "       320, 324, 328, 340, 344, 348, 352, 360, 364, 372, 376, 381, 384,\n",
    "       388, 392, 398, 400, 404, 410, 414, 417, 418, 422, 426, 428, 440,\n",
    "       442, 446, 450, 454, 458, 462, 470, 478, 480, 484, 490, 496, 498,\n",
    "       499, 504, 508, 512, 516, 524, 528, 533, 540, 554, 558, 562, 566,\n",
    "       579, 585, 586, 591, 600, 604, 608, 616, 620, 634, 642, 643, 646,\n",
    "       659, 662, 670, 678, 682, 686, 688, 690, 694, 699, 702, 703, 704,\n",
    "       705, 710, 716, 724, 729, 740, 748, 752, 757, 764, 768, 780, 784,\n",
    "       788, 792, 800, 804, 807, 818, 826, 834, 842, 854, 858, 882, 887,\n",
    "       894])\n",
    "cpr = 5\n",
    "cocountries = ['%2C'.join([f'{country}' for country in countries[j*cpr:cpr*(1+j)]]) for j in range(mt.ceil(len(countries)/cpr))]"
   ]
  },
  {
   "cell_type": "code",
   "execution_count": 163,
   "metadata": {},
   "outputs": [],
   "source": [
    "total_requests = 0\n",
    "start = time.time()\n",
    "failed_combinations = []"
   ]
  },
  {
   "cell_type": "code",
   "execution_count": null,
   "metadata": {},
   "outputs": [],
   "source": [
    "for year in range(1991,2001):\n",
    "    all_data = [] (2525 last request length)\n",
    "    for cocountry in cocountries:\n",
    "        for product in products:\n",
    "            result = re.get(url+f\"/api/get?max=100000&type=C&freq=A&px=HS&ps={year}&r={cocountry}&p=all&rg=1&cc={product}\")\n",
    "            total_requests += 1\n",
    "            data = result.json()['dataset']\n",
    "            print(len(data), 'len data')\n",
    "            if len(data) == 0 or len(data) == 10000:\n",
    "                fail = (year,cocountry,product)\n",
    "                print(f'Adding failed request {fail}')\n",
    "                failed_combinations.append(fail)\n",
    "            all_data.extend(data)\n",
    "            # Reset everything if more than an hour has elapsed\n",
    "            if now - start > 3600:\n",
    "                start = now\n",
    "                total_requests = 0\n",
    "            # If the number of requests\n",
    "            if total_requests > 99: #and (now-start < 3600): Alredy accounted for in the if statement above\n",
    "                time.sleep(3600-now + start + 10)\n",
    "                start = time.time()\n",
    "                total_requests = 0\n",
    "    df = pd.DataFrame(all_data)\n",
    "    df.to_csv(f'dummy_{year}.csv')\n",
    "            "
   ]
  },
  {
   "cell_type": "code",
   "execution_count": 39,
   "metadata": {},
   "outputs": [
    {
     "name": "stdout",
     "output_type": "stream",
     "text": [
      "2001%2C2002%2C2003%2C2004%2C2005\n",
      "entries: 1887\n",
      "entries: 2193\n",
      "2006%2C2007%2C2008%2C2009%2C2010\n",
      "entries: 1876\n",
      "entries: 2404\n",
      "2011%2C2012%2C2013%2C2014%2C2015\n",
      "entries: 2125\n",
      "entries: 2627\n",
      "2016%2C2017%2C2018%2C2019%2C2020\n",
      "entries: 2245\n",
      "entries: 0\n",
      "Data may not be complete for code 76\n",
      "Writing to memory country with code 76\n"
     ]
    }
   ],
   "source": [
    "all_records = []\n",
    "# TODO: sometimes the api answer is empty, but if we try with a smaller range of years, it is non-empty. FIX\n",
    "for country in countries:\n",
    "    if country <= 246: continue\n",
    "    country_rec = []\n",
    "    years_search = 10\n",
    "    periods = mt.ceil(20/years_search)\n",
    "    for year in ['%2C'.join(str(year) \\\n",
    "            for year in range(2001+k*years_search,2001+(k+1)*years_search)) for k in range(periods)]:#years:\n",
    "        for product in products:\n",
    "            # Get data\n",
    "            result = re.get(url+f\"/api/get?max=100000&type=C&freq=A&px=HS&ps={year}&r={country}&p=all&rg=1&cc={product}\")\n",
    "            data = result.json()['dataset']\n",
    "            time.sleep(1)\n",
    "\n",
    "            # Validate obtained data is less than the api limit\n",
    "            print(f'entries: {len(data)}')\n",
    "            if len(data) == 10000 or len(data) == 0:\n",
    "                print(f'Data may not be complete for code {country}')\n",
    "\n",
    "            # Add new entries\n",
    "            all_records.extend(data)\n",
    "            country_rec.extend(data)\n",
    "            \n",
    "            # Account for the request just performed\n",
    "            total_requests += 1\n",
    "            now = time.time()\n",
    "            \n",
    "            # Reset everything if more than an hour has elapsed\n",
    "            if now - start > 3600:\n",
    "                start = now\n",
    "                total_requests = 0\n",
    "\n",
    "            # If the number of requests\n",
    "            if total_requests > 99: #and (now-start < 3600): Alredy accounted for in the if statement above\n",
    "                time.sleep(3600-now + start + 10)\n",
    "                start = time.time()\n",
    "                total_requests = 0\n",
    "\n",
    "    # Save the country data\n",
    "    df = pd.DataFrame(country_rec)\n",
    "    print(f'Writing to memory country with code {country}')\n",
    "    df.to_csv(f'{country}_2001-2020.csv')"
   ]
  },
  {
   "cell_type": "code",
   "execution_count": null,
   "metadata": {},
   "outputs": [],
   "source": [
    "result"
   ]
  },
  {
   "cell_type": "code",
   "execution_count": null,
   "metadata": {},
   "outputs": [],
   "source": [
    "countries[186:]"
   ]
  },
  {
   "cell_type": "code",
   "execution_count": 20,
   "metadata": {},
   "outputs": [
    {
     "data": {
      "text/plain": [
       "106"
      ]
     },
     "execution_count": 20,
     "metadata": {},
     "output_type": "execute_result"
    }
   ],
   "source": [
    "total_requests"
   ]
  },
  {
   "cell_type": "code",
   "execution_count": 18,
   "metadata": {},
   "outputs": [
    {
     "data": {
      "text/plain": [
       "['2001%2C2002%2C2003%2C2004%2C2005',\n",
       " '2006%2C2007%2C2008%2C2009%2C2010',\n",
       " '2011%2C2012%2C2013%2C2014%2C2015',\n",
       " '2016%2C2017%2C2018%2C2019%2C2020']"
      ]
     },
     "execution_count": 18,
     "metadata": {},
     "output_type": "execute_result"
    }
   ],
   "source": [
    "['%2C'.join(str(year) for year in range(2001+k*5,2006+k*5)) for k in range(4)]"
   ]
  },
  {
   "cell_type": "code",
   "execution_count": 17,
   "metadata": {},
   "outputs": [
    {
     "data": {
      "text/plain": [
       "['01%2C02%2C03%2C04%2C05%2C06%2C07%2C08%2C09%2C10%2C11%2C12',\n",
       " '13%2C14%2C15%2C16%2C17%2C18%2C19%2C20%2C21%2C22%2C23%2C24']"
      ]
     },
     "execution_count": 17,
     "metadata": {},
     "output_type": "execute_result"
    }
   ],
   "source": [
    "['%2C'.join([numy(i) for i in range(j*12+1,j*12+13)]) for j in range(2)]"
   ]
  },
  {
   "cell_type": "code",
   "execution_count": 53,
   "metadata": {},
   "outputs": [
    {
     "data": {
      "text/plain": [
       "<Response [200]>"
      ]
     },
     "execution_count": 53,
     "metadata": {},
     "output_type": "execute_result"
    }
   ],
   "source": [
    "year = '2016%2C2017%2C2018%2C2019%2C2020'\n",
    "product = ['%2C'.join([numy(i) for i in range(j*12+1,j*12+13)]) for j in range(2)][1]\n",
    "country = 76 #brazil\n",
    "result = re.get(url+f\"/api/get?max=100000&type=C&freq=A&px=HS&ps={year}&r={country}&p=all&rg=1&cc={product}\")\n",
    "result"
   ]
  },
  {
   "cell_type": "code",
   "execution_count": 54,
   "metadata": {},
   "outputs": [],
   "source": [
    "data = result.json()['dataset']"
   ]
  },
  {
   "cell_type": "code",
   "execution_count": 55,
   "metadata": {},
   "outputs": [
    {
     "data": {
      "text/plain": [
       "set()"
      ]
     },
     "execution_count": 55,
     "metadata": {},
     "output_type": "execute_result"
    }
   ],
   "source": [
    "years = set([d['yr'] for d in data])\n",
    "years"
   ]
  },
  {
   "cell_type": "code",
   "execution_count": 56,
   "metadata": {},
   "outputs": [
    {
     "data": {
      "text/plain": [
       "0"
      ]
     },
     "execution_count": 56,
     "metadata": {},
     "output_type": "execute_result"
    }
   ],
   "source": [
    "total_requests = 0\n",
    "start = time.time()"
   ]
  },
  {
   "cell_type": "code",
   "execution_count": null,
   "metadata": {},
   "outputs": [],
   "source": [
    "year = 2015\n",
    "all_records = []\n",
    "# TODO: sometimes the api answer is empty, but if we try with a smaller range of years, it is non-empty. FIX\n",
    "for country in countries:\n",
    "    for product in products:\n",
    "        # Get data\n",
    "        result = re.get(url+f\"/api/get?max=100000&type=C&freq=A&px=HS&ps={year}&r={country}&p=all&rg=1&cc={product}\")\n",
    "        data = result.json()['dataset']\n",
    "        time.sleep(1)\n",
    "        # Validate obtained data is less than the api limit\n",
    "        print(f'entries: {len(data)}')\n",
    "        if len(data) == 10000 or len(data) == 0:\n",
    "            print(f'Data may not be complete for code {country}')\n",
    "        # Add new entries\n",
    "        all_records.extend(data)\n",
    "        country_rec.extend(data)            \n",
    "        # Account for the request just performed\n",
    "        total_requests += 1\n",
    "        now = time.time()            \n",
    "        # Reset everything if more than an hour has elapsed\n",
    "        if now - start > 3600:\n",
    "            start = now\n",
    "            total_requests = 0\n",
    "            # If the number of requests\n",
    "        if total_requests > 99: #and (now-start < 3600): Alredy accounted for in the if statement above\n",
    "            time.sleep(3600-now + start + 10)\n",
    "            start = time.time()\n",
    "            total_requests = 0\n",
    "\n",
    "    # Save the country data\n",
    "    df = pd.DataFrame(country_rec)\n",
    "    print(f'Writing to memory country with code {country}')\n",
    "    df.to_csv(f'{country}_2001-2020.csv')"
   ]
  },
  {
   "cell_type": "code",
   "execution_count": 78,
   "metadata": {},
   "outputs": [
    {
     "name": "stdout",
     "output_type": "stream",
     "text": [
      "2524 len data\n",
      "2636 len data\n",
      "1152 len data\n",
      "1353 len data\n",
      "731 len data\n",
      "1008 len data\n",
      "2772 len data\n",
      "2837 len data\n",
      "1545 len data\n",
      "1745 len data\n",
      "2646 len data\n",
      "2764 len data\n",
      "2350 len data\n",
      "2581 len data\n",
      "1641 len data\n",
      "1739 len data\n",
      "1344 len data\n",
      "1617 len data\n",
      "1387 len data\n",
      "1581 len data\n",
      "1812 len data\n",
      "2059 len data\n",
      "1642 len data\n",
      "1850 len data\n",
      "2076 len data\n",
      "2453 len data\n",
      "1602 len data\n",
      "1937 len data\n",
      "830 len data\n",
      "764 len data\n",
      "914 len data\n",
      "1321 len data\n",
      "2143 len data\n",
      "2364 len data\n",
      "2032 len data\n",
      "2248 len data\n",
      "392 len data\n",
      "586 len data\n",
      "1714 len data\n",
      "1896 len data\n",
      "2758 len data\n",
      "2893 len data\n",
      "1227 len data\n",
      "1296 len data\n",
      "1966 len data\n",
      "2150 len data\n",
      "972 len data\n",
      "1060 len data\n",
      "2671 len data\n",
      "2618 len data\n",
      "1520 len data\n",
      "1584 len data\n",
      "1950 len data\n",
      "2190 len data\n",
      "422 len data\n",
      "531 len data\n",
      "1633 len data\n",
      "1664 len data\n",
      "1223 len data\n",
      "1176 len data\n",
      "389 len data\n",
      "552 len data\n",
      "919 len data\n",
      "967 len data\n",
      "2957 len data\n",
      "3124 len data\n",
      "338 len data\n",
      "374 len data\n"
     ]
    }
   ],
   "source": [
    "time.sleep(3600)\n",
    "year = 2015\n",
    "ccc = 5\n",
    "cocountries = ['%2C'.join([f'{country}' for country in countries[j*ccc:ccc*(1+j)]]) for j in range(mt.ceil(len(countries)/ccc))]\n",
    "#all_data = [] (2525 last request length)\n",
    "for cocountry in cocountries[14:]:\n",
    "    for product in products:\n",
    "        result = re.get(url+f\"/api/get?max=100000&type=C&freq=A&px=HS&ps={year}&r={cocountry}&p=all&rg=1&cc={product}\")\n",
    "        data = result.json()['dataset']\n",
    "        print(len(data), 'len data')\n",
    "        time.sleep(1)\n",
    "        all_data.extend(data)"
   ]
  },
  {
   "cell_type": "code",
   "execution_count": 136,
   "metadata": {},
   "outputs": [],
   "source": [
    "df = pd.DataFrame(all_data)\n",
    "df.to_csv(f'dummy_2015.csv')"
   ]
  },
  {
   "cell_type": "code",
   "execution_count": 72,
   "metadata": {},
   "outputs": [
    {
     "data": {
      "text/plain": [
       "'266%2C268%2C270%2C276%2C288'"
      ]
     },
     "execution_count": 72,
     "metadata": {},
     "output_type": "execute_result"
    }
   ],
   "source": [
    "cocountry"
   ]
  },
  {
   "cell_type": "code",
   "execution_count": 74,
   "metadata": {},
   "outputs": [
    {
     "data": {
      "text/plain": [
       "14"
      ]
     },
     "execution_count": 74,
     "metadata": {},
     "output_type": "execute_result"
    }
   ],
   "source": [
    "cocountries.index(cocountry)"
   ]
  },
  {
   "cell_type": "code",
   "execution_count": 77,
   "metadata": {},
   "outputs": [
    {
     "data": {
      "text/plain": [
       "['266%2C268%2C270%2C276%2C288',\n",
       " '292%2C296%2C300%2C304%2C308',\n",
       " '312%2C320%2C324%2C328%2C332',\n",
       " '340%2C344%2C348%2C352%2C360',\n",
       " '364%2C368%2C372%2C376%2C380',\n",
       " '384%2C388%2C398%2C392%2C400',\n",
       " '404%2C408%2C410%2C414%2C417',\n",
       " '418%2C422%2C428%2C430%2C440',\n",
       " '446%2C450%2C454%2C458%2C466',\n",
       " '462%2C470%2C474%2C478%2C480',\n",
       " '484%2C490%2C496%2C498%2C500',\n",
       " '504%2C508%2C512%2C520%2C524',\n",
       " '527%2C528%2C530%2C533%2C540',\n",
       " '548%2C554%2C558%2C562%2C566',\n",
       " '570%2C574%2C579%2C583%2C584',\n",
       " '585%2C586%2C591%2C598%2C600',\n",
       " '604%2C608%2C616%2C624%2C620',\n",
       " '634%2C638%2C642%2C643%2C646',\n",
       " '654%2C659%2C660%2C662%2C666',\n",
       " '670%2C678%2C682%2C686%2C690',\n",
       " '694%2C699%2C702%2C704%2C705',\n",
       " '706%2C711%2C716%2C724%2C732',\n",
       " '736%2C740%2C752%2C757%2C760',\n",
       " '762%2C764%2C768%2C772%2C776',\n",
       " '780%2C784%2C788%2C792%2C795',\n",
       " '796%2C798%2C800%2C804%2C818',\n",
       " '826%2C834%2C854%2C860%2C858',\n",
       " '862%2C876%2C882%2C887%2C891',\n",
       " '899%2C894%2C203%2C231%2C434',\n",
       " '612%2C703%2C807%2C232%2C839',\n",
       " '72%2C175%2C275%2C334%2C336',\n",
       " '426%2C442%2C516%2C626%2C674',\n",
       " '748%2C710%2C56%2C499%2C688',\n",
       " '534%2C531%2C729%2C728']"
      ]
     },
     "execution_count": 77,
     "metadata": {},
     "output_type": "execute_result"
    }
   ],
   "source": [
    "cocountries[14:]"
   ]
  },
  {
   "cell_type": "code",
   "execution_count": 79,
   "metadata": {},
   "outputs": [
    {
     "data": {
      "text/plain": [
       "162194"
      ]
     },
     "execution_count": 79,
     "metadata": {},
     "output_type": "execute_result"
    }
   ],
   "source": [
    "len(all_data)"
   ]
  },
  {
   "cell_type": "code",
   "execution_count": 81,
   "metadata": {},
   "outputs": [
    {
     "data": {
      "text/plain": [
       "168"
      ]
     },
     "execution_count": 81,
     "metadata": {},
     "output_type": "execute_result"
    }
   ],
   "source": [
    "_countries = set([d['rtCode'] for d in all_data])\n",
    "len(_countries)"
   ]
  },
  {
   "cell_type": "code",
   "execution_count": 134,
   "metadata": {},
   "outputs": [],
   "source": [
    "table = df.groupby(['rtCode','ptCode','cmdCode']).size().reset_index().rename(columns={0:'Count'})"
   ]
  },
  {
   "cell_type": "code",
   "execution_count": 135,
   "metadata": {},
   "outputs": [
    {
     "data": {
      "text/plain": [
       "Count\n",
       "1    161374\n",
       "2      2524\n",
       "dtype: int64"
      ]
     },
     "execution_count": 135,
     "metadata": {},
     "output_type": "execute_result"
    }
   ],
   "source": [
    "table.groupby(['Count']).size()"
   ]
  },
  {
   "cell_type": "code",
   "execution_count": 111,
   "metadata": {
    "scrolled": false
   },
   "outputs": [
    {
     "data": {
      "text/plain": [
       "244"
      ]
     },
     "execution_count": 111,
     "metadata": {},
     "output_type": "execute_result"
    }
   ],
   "source": [
    "len(df.ptCode.unique())"
   ]
  },
  {
   "cell_type": "code",
   "execution_count": 112,
   "metadata": {},
   "outputs": [
    {
     "data": {
      "text/plain": [
       "239"
      ]
     },
     "execution_count": 112,
     "metadata": {},
     "output_type": "execute_result"
    }
   ],
   "source": [
    "len(countries)"
   ]
  },
  {
   "cell_type": "code",
   "execution_count": 113,
   "metadata": {},
   "outputs": [],
   "source": [
    "ex_countries = np.array([country for country in df.ptCode.unique() if country not in countries])"
   ]
  },
  {
   "cell_type": "code",
   "execution_count": 114,
   "metadata": {},
   "outputs": [
    {
     "data": {
      "text/plain": [
       "array([  0, 381, 842, 581, 568, 652, 577,  16, 838, 316, 837,  74, 473,\n",
       "        10, 535, 580, 637, 239])"
      ]
     },
     "execution_count": 114,
     "metadata": {},
     "output_type": "execute_result"
    }
   ],
   "source": [
    "ex_countries"
   ]
  },
  {
   "cell_type": "code",
   "execution_count": 120,
   "metadata": {},
   "outputs": [
    {
     "name": "stdout",
     "output_type": "stream",
     "text": [
      "0 len data\n",
      "0 len data\n",
      "0 len data\n",
      "0 len data\n",
      "0 len data\n",
      "0 len data\n",
      "0 len data\n",
      "0 len data\n"
     ]
    }
   ],
   "source": [
    "time.sleep(3600)\n",
    "for cocountry in [535, 580, 637, 239]:\n",
    "    for product in products:\n",
    "        result = re.get(url+f\"/api/get?max=100000&type=C&freq=A&px=HS&ps={year}&r={cocountry}&p=all&rg=1&cc={product}\")\n",
    "        data = result.json()['dataset']\n",
    "        print(len(data), 'len data')\n",
    "        time.sleep(1)\n",
    "        all_data.extend(data)"
   ]
  },
  {
   "cell_type": "code",
   "execution_count": 119,
   "metadata": {},
   "outputs": [
    {
     "data": {
      "text/plain": [
       "535"
      ]
     },
     "execution_count": 119,
     "metadata": {},
     "output_type": "execute_result"
    }
   ],
   "source": [
    "cocountry"
   ]
  },
  {
   "cell_type": "code",
   "execution_count": 121,
   "metadata": {},
   "outputs": [],
   "source": [
    "df = pd.DataFrame(all_data)"
   ]
  },
  {
   "cell_type": "code",
   "execution_count": 142,
   "metadata": {
    "scrolled": false
   },
   "outputs": [],
   "source": [
    "reporters = df.rtTitle.unique()\n",
    "partners = df.ptTitle.unique()"
   ]
  },
  {
   "cell_type": "code",
   "execution_count": 145,
   "metadata": {},
   "outputs": [],
   "source": [
    "g = [p for p in partners if p not in reporters]"
   ]
  },
  {
   "cell_type": "code",
   "execution_count": 149,
   "metadata": {
    "scrolled": true
   },
   "outputs": [
    {
     "data": {
      "text/plain": [
       "170"
      ]
     },
     "execution_count": 149,
     "metadata": {},
     "output_type": "execute_result"
    }
   ],
   "source": [
    "len(reporters)"
   ]
  },
  {
   "cell_type": "code",
   "execution_count": 157,
   "metadata": {},
   "outputs": [
    {
     "data": {
      "text/plain": [
       "array([  4,   8,  12,  20,  24,  28,  31,  32,  36,  40,  44,  48,  50,\n",
       "        51,  52,  56,  60,  68,  70,  72,  76,  84,  90,  96, 100, 104,\n",
       "       108, 112, 116, 120, 124, 132, 136, 140, 144, 152, 156, 170, 174,\n",
       "       178, 180, 188, 191, 196, 203, 204, 208, 214, 218, 222, 231, 233,\n",
       "       242, 246, 251, 258, 268, 270, 275, 276, 288, 296, 300, 304, 308,\n",
       "       320, 324, 328, 340, 344, 348, 352, 360, 364, 372, 376, 381, 384,\n",
       "       388, 392, 398, 400, 404, 410, 414, 417, 418, 422, 426, 428, 440,\n",
       "       442, 446, 450, 454, 458, 462, 470, 478, 480, 484, 490, 496, 498,\n",
       "       499, 504, 508, 512, 516, 524, 528, 533, 540, 554, 558, 562, 566,\n",
       "       579, 585, 586, 591, 600, 604, 608, 616, 620, 634, 642, 643, 646,\n",
       "       659, 662, 670, 678, 682, 686, 688, 690, 694, 699, 702, 703, 704,\n",
       "       705, 710, 716, 724, 729, 740, 748, 752, 757, 764, 768, 780, 784,\n",
       "       788, 792, 800, 804, 807, 818, 826, 834, 842, 854, 858, 882, 887,\n",
       "       894])"
      ]
     },
     "execution_count": 157,
     "metadata": {},
     "output_type": "execute_result"
    }
   ],
   "source": [
    "countries = df.rtCode.unique()\n",
    "countries.sort()\n",
    "countries"
   ]
  },
  {
   "cell_type": "code",
   "execution_count": 158,
   "metadata": {},
   "outputs": [],
   "source": [
    "countries = np.array([  4,   8,  12,  20,  24,  28,  31,  32,  36,  40,  44,  48,  50,\n",
    "        51,  52,  56,  60,  68,  70,  72,  76,  84,  90,  96, 100, 104,\n",
    "       108, 112, 116, 120, 124, 132, 136, 140, 144, 152, 156, 170, 174,\n",
    "       178, 180, 188, 191, 196, 203, 204, 208, 214, 218, 222, 231, 233,\n",
    "       242, 246, 251, 258, 268, 270, 275, 276, 288, 296, 300, 304, 308,\n",
    "       320, 324, 328, 340, 344, 348, 352, 360, 364, 372, 376, 381, 384,\n",
    "       388, 392, 398, 400, 404, 410, 414, 417, 418, 422, 426, 428, 440,\n",
    "       442, 446, 450, 454, 458, 462, 470, 478, 480, 484, 490, 496, 498,\n",
    "       499, 504, 508, 512, 516, 524, 528, 533, 540, 554, 558, 562, 566,\n",
    "       579, 585, 586, 591, 600, 604, 608, 616, 620, 634, 642, 643, 646,\n",
    "       659, 662, 670, 678, 682, 686, 688, 690, 694, 699, 702, 703, 704,\n",
    "       705, 710, 716, 724, 729, 740, 748, 752, 757, 764, 768, 780, 784,\n",
    "       788, 792, 800, 804, 807, 818, 826, 834, 842, 854, 858, 882, 887,\n",
    "       894])"
   ]
  },
  {
   "cell_type": "code",
   "execution_count": 161,
   "metadata": {},
   "outputs": [
    {
     "data": {
      "text/html": [
       "<div>\n",
       "<style scoped>\n",
       "    .dataframe tbody tr th:only-of-type {\n",
       "        vertical-align: middle;\n",
       "    }\n",
       "\n",
       "    .dataframe tbody tr th {\n",
       "        vertical-align: top;\n",
       "    }\n",
       "\n",
       "    .dataframe thead th {\n",
       "        text-align: right;\n",
       "    }\n",
       "</style>\n",
       "<table border=\"1\" class=\"dataframe\">\n",
       "  <thead>\n",
       "    <tr style=\"text-align: right;\">\n",
       "      <th></th>\n",
       "      <th>rtTitle</th>\n",
       "      <th>ptTitle</th>\n",
       "    </tr>\n",
       "  </thead>\n",
       "  <tbody>\n",
       "    <tr>\n",
       "      <th>397</th>\n",
       "      <td>Andorra</td>\n",
       "      <td>Andorra</td>\n",
       "    </tr>\n",
       "    <tr>\n",
       "      <th>3242</th>\n",
       "      <td>Argentina</td>\n",
       "      <td>Argentina</td>\n",
       "    </tr>\n",
       "    <tr>\n",
       "      <th>3263</th>\n",
       "      <td>Australia</td>\n",
       "      <td>Australia</td>\n",
       "    </tr>\n",
       "    <tr>\n",
       "      <th>3347</th>\n",
       "      <td>Argentina</td>\n",
       "      <td>Argentina</td>\n",
       "    </tr>\n",
       "    <tr>\n",
       "      <th>3358</th>\n",
       "      <td>Australia</td>\n",
       "      <td>Australia</td>\n",
       "    </tr>\n",
       "    <tr>\n",
       "      <th>...</th>\n",
       "      <td>...</td>\n",
       "      <td>...</td>\n",
       "    </tr>\n",
       "    <tr>\n",
       "      <th>160284</th>\n",
       "      <td>South Africa</td>\n",
       "      <td>South Africa</td>\n",
       "    </tr>\n",
       "    <tr>\n",
       "      <th>160630</th>\n",
       "      <td>South Africa</td>\n",
       "      <td>South Africa</td>\n",
       "    </tr>\n",
       "    <tr>\n",
       "      <th>161010</th>\n",
       "      <td>South Africa</td>\n",
       "      <td>South Africa</td>\n",
       "    </tr>\n",
       "    <tr>\n",
       "      <th>161235</th>\n",
       "      <td>South Africa</td>\n",
       "      <td>South Africa</td>\n",
       "    </tr>\n",
       "    <tr>\n",
       "      <th>161460</th>\n",
       "      <td>South Africa</td>\n",
       "      <td>South Africa</td>\n",
       "    </tr>\n",
       "  </tbody>\n",
       "</table>\n",
       "<p>424 rows × 2 columns</p>\n",
       "</div>"
      ],
      "text/plain": [
       "             rtTitle       ptTitle\n",
       "397          Andorra       Andorra\n",
       "3242       Argentina     Argentina\n",
       "3263       Australia     Australia\n",
       "3347       Argentina     Argentina\n",
       "3358       Australia     Australia\n",
       "...              ...           ...\n",
       "160284  South Africa  South Africa\n",
       "160630  South Africa  South Africa\n",
       "161010  South Africa  South Africa\n",
       "161235  South Africa  South Africa\n",
       "161460  South Africa  South Africa\n",
       "\n",
       "[424 rows x 2 columns]"
      ]
     },
     "execution_count": 161,
     "metadata": {},
     "output_type": "execute_result"
    }
   ],
   "source": []
  },
  {
   "cell_type": "code",
   "execution_count": null,
   "metadata": {},
   "outputs": [],
   "source": []
  }
 ],
 "metadata": {
  "kernelspec": {
   "display_name": "Python 3",
   "language": "python",
   "name": "python3"
  },
  "language_info": {
   "codemirror_mode": {
    "name": "ipython",
    "version": 3
   },
   "file_extension": ".py",
   "mimetype": "text/x-python",
   "name": "python",
   "nbconvert_exporter": "python",
   "pygments_lexer": "ipython3",
   "version": "3.8.10"
  }
 },
 "nbformat": 4,
 "nbformat_minor": 4
}
